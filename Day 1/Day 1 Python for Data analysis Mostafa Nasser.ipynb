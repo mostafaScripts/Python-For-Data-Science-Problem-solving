{
 "cells": [
  {
   "cell_type": "markdown",
   "id": "2fa92cbc",
   "metadata": {},
   "source": [
    "<h5>Name: Mostafa Nasser<h5>"
   ]
  },
  {
   "cell_type": "markdown",
   "id": "5f9bbc1a",
   "metadata": {},
   "source": [
    "<center><h3 style=\"color:brown\">Python for Data Science   Day 1</h3><center>"
   ]
  },
  {
   "cell_type": "code",
   "execution_count": 4,
   "id": "68b2f598",
   "metadata": {},
   "outputs": [],
   "source": [
    "#Importing Required Libraries\n",
    "import numpy as np   #numerical python for mathematical operations on arrays\n",
    "import collections   #for counting the frequency for each die\n",
    "import itertools     #for joining multiple nested lists into one list (to make frequency works)"
   ]
  },
  {
   "cell_type": "markdown",
   "id": "622ef5da",
   "metadata": {},
   "source": [
    "<font size = 2>Write a dice game, where we throw 2 dice (i.e. 2 random numbers from 1 to 6).\n",
    "Display the dice readings + sum. For example Dice: [4, 5]. Sum: 9\n",
    "If same number on both dice: display BINGO!\n",
    "Else if sum > 8, display WINNER!\n",
    "Otherwise, display LOOSER!<font>"
   ]
  },
  {
   "cell_type": "code",
   "execution_count": 2,
   "id": "657f031d",
   "metadata": {},
   "outputs": [
    {
     "name": "stdout",
     "output_type": "stream",
     "text": [
      "Dice 1 Reading : 4\n",
      "Dice 2 Reading : 2\n",
      "LOOSER!\n"
     ]
    }
   ],
   "source": [
    "def check():\n",
    "    dice1 = np.random.randint(1,7)\n",
    "    dice2 = np.random.randint(1,7)\n",
    "    print(\"Dice 1 Reading :\",dice1)\n",
    "    print(\"Dice 2 Reading :\",dice2)\n",
    "    if dice1 == dice2:\n",
    "        print(\"BINGO!\")\n",
    "    elif dice1+dice2 > 8:\n",
    "        print(\"WINNER!\")\n",
    "    else:\n",
    "        print(\"LOOSER!\")\n",
    "        \n",
    "check()"
   ]
  },
  {
   "cell_type": "markdown",
   "id": "100fba56",
   "metadata": {},
   "source": [
    "<font size = 2>LAB 2:\n",
    "Write a throwDice(numDice=1, numThrows=1) function.\n",
    "It should return a 2D array indicating the results.\n",
    "For example: throwDice(2, 3) should return something like [[1, 4], [3,\n",
    "5], [5, 6]] (reading of the 2 dice when throwed 3 times)\n",
    "Defaults call throwDice() should return something like [[3]]\n",
    "If we throwDice(2, 1000) (2 dice for 1000 times), print out the frequency of the\n",
    "sum of each throw as a dict. For example: { 2: 50, 3: 44, 4: 37, ... }\n",
    "Does the above result comply with probability of sums of 2 dice?<font>"
   ]
  },
  {
   "cell_type": "code",
   "execution_count": 5,
   "id": "9be02ed7",
   "metadata": {},
   "outputs": [
    {
     "name": "stdout",
     "output_type": "stream",
     "text": [
      "{4: 83, 6: 128, 5: 112, 10: 103, 7: 165, 8: 125, 9: 118, 12: 38, 2: 27, 11: 52, 3: 49}\n",
      "1000\n"
     ]
    }
   ],
   "source": [
    "def throwDice(numDice=1, numThrows=1):\n",
    "    arr=[]\n",
    "    for i in range(numThrows):\n",
    "        x= list(np.random.randint(1,7,size=numDice))\n",
    "        arr.append(x)\n",
    "    return arr\n",
    "\n",
    "\n",
    "#throwing 2 dices 1000 times\n",
    "throws = throwDice(numDice=2, numThrows=1000)\n",
    "freq = {}\n",
    "for i in range(len(throws)):\n",
    "    s = sum(throws[i])\n",
    "    if s not in freq:\n",
    "        freq[s] = 1\n",
    "    else:\n",
    "        freq[s] = freq[s] + 1\n",
    "print(freq)\n",
    "print(sum(freq.values()))\n"
   ]
  },
  {
   "cell_type": "code",
   "execution_count": 5,
   "id": "196a6a38",
   "metadata": {
    "scrolled": true
   },
   "outputs": [],
   "source": [
    "'''\n",
    "#joining list of lists in one list to operate frequency\n",
    "big_list = list(itertools.chain.from_iterable(x))\n",
    "\n",
    "'''\n",
    "\n",
    "'''\n",
    "#calculating frequency\n",
    "for i in big_list:\n",
    "    counter=collections.Counter(big_list)\n",
    "print(counter)\n",
    "\n",
    "'''\n",
    "\n",
    "'''\n",
    "frequency = {4: \"381\", 3: \"354\", 2: \"342\", 5: \"320\", 6: \"309\", 1: \"294\"}\n",
    "\n",
    "\n",
    "for key, value in frequency.items():\n",
    "    print(\"probability of key:\",key,\"is\", int(value)/100,\"%\")\n",
    "'''\n"
   ]
  }
 ],
 "metadata": {
  "kernelspec": {
   "display_name": "Python 3",
   "language": "python",
   "name": "python3"
  },
  "language_info": {
   "codemirror_mode": {
    "name": "ipython",
    "version": 3
   },
   "file_extension": ".py",
   "mimetype": "text/x-python",
   "name": "python",
   "nbconvert_exporter": "python",
   "pygments_lexer": "ipython3",
   "version": "3.8.10"
  }
 },
 "nbformat": 4,
 "nbformat_minor": 5
}
